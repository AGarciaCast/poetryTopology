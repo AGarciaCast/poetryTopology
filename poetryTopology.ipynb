{
 "cells": [
  {
   "cell_type": "code",
   "execution_count": 210,
   "metadata": {},
   "outputs": [],
   "source": [
    "import pandas as pd\n",
    "import re\n",
    "import codecs"
   ]
  },
  {
   "cell_type": "markdown",
   "metadata": {},
   "source": [
    "# Data"
   ]
  },
  {
   "cell_type": "code",
   "execution_count": 211,
   "metadata": {},
   "outputs": [
    {
     "data": {
      "text/plain": [
       "Index(['Unnamed: 0', 'Title', 'Poem', 'Poet', 'Tags'], dtype='object')"
      ]
     },
     "execution_count": 211,
     "metadata": {},
     "output_type": "execute_result"
    }
   ],
   "source": [
    "path = \".\\Data\\PoetryFoundationData.csv\"\n",
    "df = pd.read_csv(path)\n",
    "df.columns"
   ]
  },
  {
   "cell_type": "code",
   "execution_count": 212,
   "metadata": {},
   "outputs": [],
   "source": [
    "df_red = df[[\"Title\", \"Poem\", \"Poet\"]]"
   ]
  },
  {
   "cell_type": "code",
   "execution_count": 213,
   "metadata": {},
   "outputs": [],
   "source": [
    "# cleaning\n",
    "df_red.loc[:, \"Poem\"] = df_red.loc[:, \"Poem\"].str.replace(\"\\r\",\"\")\n",
    "df_red.loc[:, \"Poem\"] = df_red.loc[:, \"Poem\"].str.rstrip(\"\\n\")\n",
    "\n",
    "df_red.loc[:, \"Title\"] = df_red.loc[:, \"Title\"].str.replace(r\" {2,}\", \"\", regex=True)\n",
    "df_red.loc[:, \"Title\"] = df_red.loc[:, \"Title\"].str.replace(\"\\n\", \"\")\n",
    "df_red.loc[:, \"Title\"] = df_red.loc[:, \"Title\"].str.replace(\"\\r\", \"\")\n",
    "\n",
    "df_red.loc[:, \"Poet\"] = df_red.loc[:, \"Poet\"].str.replace(\"\\n\", \"\")\n",
    "df_red.loc[:, \"Poet\"] = df_red.loc[:, \"Poet\"].str.replace(\"\\r\", \"\")"
   ]
  },
  {
   "cell_type": "code",
   "execution_count": 214,
   "metadata": {},
   "outputs": [
    {
     "name": "stdout",
     "output_type": "stream",
     "text": [
      "Num NaN Poems: 0\n",
      "Num NaN Poets: 0\n",
      "Num NaN Title: 0\n"
     ]
    }
   ],
   "source": [
    "nan_poems = df_red[\"Poem\"].isnull().sum()\n",
    "nan_poets = df_red[\"Poet\"].isnull().sum()\n",
    "nan_title = df_red[\"Title\"].isnull().sum()\n",
    "print(f\"Num NaN Poems: {nan_poems}\" +\n",
    "      f\"\\nNum NaN Poets: {nan_poets}\"+\n",
    "      f\"\\nNum NaN Title: {nan_title}\")"
   ]
  },
  {
   "cell_type": "code",
   "execution_count": 215,
   "metadata": {},
   "outputs": [],
   "source": [
    "\"\"\"\n",
    "Poem text files should be formatted as:\n",
    "TITLE\n",
    "AUTHOR\n",
    "TEXTTEXTTEXT[...]\n",
    "******\n",
    "TITLE2\n",
    "AUTHOR(2)\n",
    "TEXT...\n",
    "\"\"\"\n",
    "\n",
    "with codecs.open(\".\\Data\\style_input.txt\", \"w\", \"utf-8\") as f:\n",
    "    aux = \"\"\n",
    "    for _, row in df_red.iterrows():\n",
    "        new_line = row[\"Title\"] + \"\\n\" +\\\n",
    "                    row[\"Poet\"] + \"\\n\" +\\\n",
    "                    row[\"Poem\"] + \"\\n******\\n\"\n",
    "\n",
    "        f.write(new_line)\n",
    "      "
   ]
  }
 ],
 "metadata": {
  "kernelspec": {
   "display_name": "Python 3.7.11 ('ml_env')",
   "language": "python",
   "name": "python3"
  },
  "language_info": {
   "codemirror_mode": {
    "name": "ipython",
    "version": 3
   },
   "file_extension": ".py",
   "mimetype": "text/x-python",
   "name": "python",
   "nbconvert_exporter": "python",
   "pygments_lexer": "ipython3",
   "version": "3.7.11"
  },
  "orig_nbformat": 4,
  "vscode": {
   "interpreter": {
    "hash": "26105b2dc5f82e64c8b7ee8f072b1281e0bdab5f382708ceed93e75530eb79f1"
   }
  }
 },
 "nbformat": 4,
 "nbformat_minor": 2
}
