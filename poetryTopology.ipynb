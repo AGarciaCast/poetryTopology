{
 "cells": [
  {
   "cell_type": "code",
   "execution_count": 21,
   "metadata": {},
   "outputs": [],
   "source": [
    "import pandas as pd\n",
    "import re\n",
    "import codecs"
   ]
  },
  {
   "cell_type": "markdown",
   "metadata": {},
   "source": [
    "# Data"
   ]
  },
  {
   "cell_type": "code",
   "execution_count": 240,
   "metadata": {},
   "outputs": [
    {
     "data": {
      "text/plain": [
       "Index(['Unnamed: 0', 'Title', 'Poem', 'Poet', 'Tags'], dtype='object')"
      ]
     },
     "execution_count": 240,
     "metadata": {},
     "output_type": "execute_result"
    }
   ],
   "source": [
    "path = \".\\Data\\PoetryFoundationData.csv\"\n",
    "df = pd.read_csv(path)\n",
    "df.columns"
   ]
  },
  {
   "cell_type": "code",
   "execution_count": 241,
   "metadata": {},
   "outputs": [],
   "source": [
    "df_red = df[[\"Title\", \"Poem\", \"Poet\"]]\n"
   ]
  },
  {
   "cell_type": "code",
   "execution_count": 252,
   "metadata": {},
   "outputs": [],
   "source": [
    "df2 = df_red.groupby(['Poet'])['Poet'].count().nlargest(100)"
   ]
  },
  {
   "cell_type": "code",
   "execution_count": 253,
   "metadata": {},
   "outputs": [
    {
     "data": {
      "text/plain": [
       "Poet\n",
       "Edna St. Vincent Millay    10\n",
       "Ntozake Shange             10\n",
       "Quan Barry                 10\n",
       "Thomas Centolella          10\n",
       "Kahlil Gibran               9\n",
       "                           ..\n",
       "Bei Dao                     3\n",
       "Bill Zavatsky               3\n",
       "Charles Olson               3\n",
       "Chinua Achebe               3\n",
       "Christian Wiman             3\n",
       "Name: Poet, Length: 100, dtype: int64"
      ]
     },
     "execution_count": 253,
     "metadata": {},
     "output_type": "execute_result"
    }
   ],
   "source": [
    "df2"
   ]
  },
  {
   "cell_type": "code",
   "execution_count": 243,
   "metadata": {},
   "outputs": [],
   "source": [
    "# cleaning\n",
    "df_red.loc[:, \"Poem\"] = df_red.loc[:, \"Poem\"].str.replace(\"\\r\",\"\")\n",
    "df_red.loc[:, \"Poem\"] = df_red.loc[:, \"Poem\"].str.rstrip(\"\\n\")\n",
    "\n",
    "df_red.loc[:, \"Title\"] = df_red.loc[:, \"Title\"].str.replace(r\" {2,}\", \"\", regex=True)\n",
    "df_red.loc[:, \"Title\"] = df_red.loc[:, \"Title\"].str.replace(\"\\n\", \"\")\n",
    "df_red.loc[:, \"Title\"] = df_red.loc[:, \"Title\"].str.replace(\"\\r\", \"\")\n",
    "\n",
    "df_red.loc[:, \"Poet\"] = df_red.loc[:, \"Poet\"].str.replace(\"\\n\", \"\")\n",
    "df_red.loc[:, \"Poet\"] = df_red.loc[:, \"Poet\"].str.replace(\"\\r\", \"\")"
   ]
  },
  {
   "cell_type": "code",
   "execution_count": 244,
   "metadata": {},
   "outputs": [
    {
     "name": "stdout",
     "output_type": "stream",
     "text": [
      "Num NaN Poems: 0\n",
      "Num NaN Poets: 0\n",
      "Num NaN Title: 0\n"
     ]
    }
   ],
   "source": [
    "nan_poems = df_red[\"Poem\"].isnull().sum()\n",
    "nan_poets = df_red[\"Poet\"].isnull().sum()\n",
    "nan_title = df_red[\"Title\"].isnull().sum()\n",
    "print(f\"Num NaN Poems: {nan_poems}\" +\n",
    "      f\"\\nNum NaN Poets: {nan_poets}\" +\n",
    "      f\"\\nNum NaN Title: {nan_title}\")"
   ]
  },
  {
   "cell_type": "code",
   "execution_count": 245,
   "metadata": {},
   "outputs": [],
   "source": [
    "\"\"\"\n",
    "Poem text files should be formatted as:\n",
    "TITLE\n",
    "AUTHOR\n",
    "TEXTTEXTTEXT[...]\n",
    "******\n",
    "TITLE2\n",
    "AUTHOR(2)\n",
    "TEXT...\n",
    "\"\"\"\n",
    "\n",
    "with codecs.open(\".\\Data\\style_input.txt\", \"w\", \"utf-8\") as f:\n",
    "    aux = \"\"\n",
    "    for _, row in df_red.iterrows():\n",
    "        new_line = row[\"Title\"] + \"\\n\" +\\\n",
    "                    row[\"Poet\"] + \"\\n\" +\\\n",
    "                    row[\"Poem\"] + \"\\n******\\n\"\n",
    "\n",
    "        f.write(new_line)\n",
    "      "
   ]
  },
  {
   "cell_type": "code",
   "execution_count": 256,
   "metadata": {},
   "outputs": [],
   "source": [
    "!pip install -q selenium"
   ]
  },
  {
   "cell_type": "code",
   "execution_count": 9,
   "metadata": {},
   "outputs": [],
   "source": [
    "from selenium import webdriver\n",
    "from selenium.webdriver.common.keys import Keys\n",
    "from selenium.webdriver.common.by import By\n",
    "from selenium.common.exceptions import NoSuchElementException\n",
    "\n",
    "import time, random\n"
   ]
  },
  {
   "cell_type": "code",
   "execution_count": 45,
   "metadata": {},
   "outputs": [],
   "source": [
    "def extract_poem(driver):\n",
    "    elem = driver.find_element(By.CLASS_NAME, \"card-body\")\n",
    "    return \"\\n\\n\".join(p.text for p in elem.find_elements(By.CSS_SELECTOR, \"p\"))\n",
    "\n",
    "def iterate_poems(driver):\n",
    "    web = driver.current_url\n",
    "    def get_elements(web):\n",
    "        driver.get(web)\n",
    "        time.sleep(2) \n",
    "        mytable = driver.find_element(By.CSS_SELECTOR, 'tbody')\n",
    "        return mytable.find_elements(By.TAG_NAME, \"a\")\n",
    "\n",
    "    num_elems = len(get_elements(web))\n",
    "    poems = []\n",
    "    titles = []\n",
    "    author = driver.find_element(By.CLASS_NAME, \"poet__name\").text\n",
    "\n",
    "    i = 0\n",
    "    while i<num_elems:\n",
    "        elements = get_elements(web)\n",
    "        \n",
    "        link = elements[i]\n",
    "        titles.append(link.text)\n",
    "        link.click()\n",
    "        time.sleep(random.randint(2, 5))\n",
    "        poems.append(extract_poem(driver))\n",
    "        i+=1\n",
    "\n",
    "    time.sleep(random.randint(2, 5))\n",
    "    driver.get(web)\n",
    "\n",
    "    return author, titles, poems\n",
    "\n",
    "def iterate_web(driver, web, df=None):\n",
    "    driver.get(web)\n",
    "    time.sleep(1)\n",
    "\n",
    "    more_next = True\n",
    "    if df is None:\n",
    "        df = pd.DataFrame({\"Poet\":[], \"Poem\":[], \"Title\":[]})\n",
    "\n",
    "    while more_next:\n",
    "        try:\n",
    "\n",
    "            author, titles, poems = iterate_poems(driver)\n",
    "            df_aux = pd.DataFrame({\"Poet\":[author]*len(poems),\n",
    "                                    \"Poem\":poems,\n",
    "                                    \"Title\":titles})\n",
    "            df = df.append(df_aux)\n",
    "            time.sleep(1)\n",
    "            link = driver.find_element(By.CSS_SELECTOR,\n",
    "                                      '[aria-label=\"Go to next page\"]')\n",
    "            link.click()\n",
    "            time.sleep(2)\n",
    "        except NoSuchElementException:\n",
    "            more_next = False\n",
    "        print(\"New page\")\n",
    "\n",
    "    return df\n",
    "\n",
    "def extract_webs(webs):\n",
    "    driver = webdriver.Chrome()\n",
    "    df = pd.DataFrame({\"Poet\":[], \"Poem\":[], \"Title\":[]})\n",
    "    for web in webs:\n",
    "        df = iterate_web(driver, web, df)\n",
    "\n",
    "    driver.close()\n",
    "    return df"
   ]
  },
  {
   "cell_type": "code",
   "execution_count": 46,
   "metadata": {},
   "outputs": [
    {
     "ename": "IndexError",
     "evalue": "list index out of range",
     "output_type": "error",
     "traceback": [
      "\u001b[1;31m---------------------------------------------------------------------------\u001b[0m",
      "\u001b[1;31mIndexError\u001b[0m                                Traceback (most recent call last)",
      "\u001b[1;32m~\\AppData\\Local\\Temp/ipykernel_47580/3153728868.py\u001b[0m in \u001b[0;36m<module>\u001b[1;34m\u001b[0m\n\u001b[0;32m      1\u001b[0m \u001b[0mwebs\u001b[0m \u001b[1;33m=\u001b[0m \u001b[1;33m[\u001b[0m\u001b[1;34m\"https://poets.org/poet/john-wieners\"\u001b[0m\u001b[1;33m]\u001b[0m\u001b[1;33m\u001b[0m\u001b[1;33m\u001b[0m\u001b[0m\n\u001b[1;32m----> 2\u001b[1;33m \u001b[0mdf\u001b[0m \u001b[1;33m=\u001b[0m \u001b[0mextract_webs\u001b[0m\u001b[1;33m(\u001b[0m\u001b[0mwebs\u001b[0m\u001b[1;33m)\u001b[0m\u001b[1;33m\u001b[0m\u001b[1;33m\u001b[0m\u001b[0m\n\u001b[0m",
      "\u001b[1;32m~\\AppData\\Local\\Temp/ipykernel_47580/3890058554.py\u001b[0m in \u001b[0;36mextract_webs\u001b[1;34m(webs)\u001b[0m\n\u001b[0;32m     62\u001b[0m     \u001b[0mdf\u001b[0m \u001b[1;33m=\u001b[0m \u001b[0mpd\u001b[0m\u001b[1;33m.\u001b[0m\u001b[0mDataFrame\u001b[0m\u001b[1;33m(\u001b[0m\u001b[1;33m{\u001b[0m\u001b[1;34m\"Poet\"\u001b[0m\u001b[1;33m:\u001b[0m\u001b[1;33m[\u001b[0m\u001b[1;33m]\u001b[0m\u001b[1;33m,\u001b[0m \u001b[1;34m\"Poem\"\u001b[0m\u001b[1;33m:\u001b[0m\u001b[1;33m[\u001b[0m\u001b[1;33m]\u001b[0m\u001b[1;33m,\u001b[0m \u001b[1;34m\"Title\"\u001b[0m\u001b[1;33m:\u001b[0m\u001b[1;33m[\u001b[0m\u001b[1;33m]\u001b[0m\u001b[1;33m}\u001b[0m\u001b[1;33m)\u001b[0m\u001b[1;33m\u001b[0m\u001b[1;33m\u001b[0m\u001b[0m\n\u001b[0;32m     63\u001b[0m     \u001b[1;32mfor\u001b[0m \u001b[0mweb\u001b[0m \u001b[1;32min\u001b[0m \u001b[0mwebs\u001b[0m\u001b[1;33m:\u001b[0m\u001b[1;33m\u001b[0m\u001b[1;33m\u001b[0m\u001b[0m\n\u001b[1;32m---> 64\u001b[1;33m         \u001b[0mdf\u001b[0m \u001b[1;33m=\u001b[0m \u001b[0miterate_web\u001b[0m\u001b[1;33m(\u001b[0m\u001b[0mdriver\u001b[0m\u001b[1;33m,\u001b[0m \u001b[0mweb\u001b[0m\u001b[1;33m,\u001b[0m \u001b[0mdf\u001b[0m\u001b[1;33m)\u001b[0m\u001b[1;33m\u001b[0m\u001b[1;33m\u001b[0m\u001b[0m\n\u001b[0m\u001b[0;32m     65\u001b[0m \u001b[1;33m\u001b[0m\u001b[0m\n\u001b[0;32m     66\u001b[0m     \u001b[0mdriver\u001b[0m\u001b[1;33m.\u001b[0m\u001b[0mclose\u001b[0m\u001b[1;33m(\u001b[0m\u001b[1;33m)\u001b[0m\u001b[1;33m\u001b[0m\u001b[1;33m\u001b[0m\u001b[0m\n",
      "\u001b[1;32m~\\AppData\\Local\\Temp/ipykernel_47580/3890058554.py\u001b[0m in \u001b[0;36miterate_web\u001b[1;34m(driver, web, df)\u001b[0m\n\u001b[0;32m     43\u001b[0m         \u001b[1;32mtry\u001b[0m\u001b[1;33m:\u001b[0m\u001b[1;33m\u001b[0m\u001b[1;33m\u001b[0m\u001b[0m\n\u001b[0;32m     44\u001b[0m \u001b[1;33m\u001b[0m\u001b[0m\n\u001b[1;32m---> 45\u001b[1;33m             \u001b[0mauthor\u001b[0m\u001b[1;33m,\u001b[0m \u001b[0mtitles\u001b[0m\u001b[1;33m,\u001b[0m \u001b[0mpoems\u001b[0m \u001b[1;33m=\u001b[0m \u001b[0miterate_poems\u001b[0m\u001b[1;33m(\u001b[0m\u001b[0mdriver\u001b[0m\u001b[1;33m)\u001b[0m\u001b[1;33m\u001b[0m\u001b[1;33m\u001b[0m\u001b[0m\n\u001b[0m\u001b[0;32m     46\u001b[0m             df_aux = pd.DataFrame({\"Poet\":[author]*len(poems),\n\u001b[0;32m     47\u001b[0m                                     \u001b[1;34m\"Poem\"\u001b[0m\u001b[1;33m:\u001b[0m\u001b[0mpoems\u001b[0m\u001b[1;33m,\u001b[0m\u001b[1;33m\u001b[0m\u001b[1;33m\u001b[0m\u001b[0m\n",
      "\u001b[1;32m~\\AppData\\Local\\Temp/ipykernel_47580/3890058554.py\u001b[0m in \u001b[0;36miterate_poems\u001b[1;34m(driver)\u001b[0m\n\u001b[0;32m     20\u001b[0m         \u001b[0melements\u001b[0m \u001b[1;33m=\u001b[0m \u001b[0mget_elements\u001b[0m\u001b[1;33m(\u001b[0m\u001b[0mweb\u001b[0m\u001b[1;33m)\u001b[0m\u001b[1;33m\u001b[0m\u001b[1;33m\u001b[0m\u001b[0m\n\u001b[0;32m     21\u001b[0m \u001b[1;33m\u001b[0m\u001b[0m\n\u001b[1;32m---> 22\u001b[1;33m         \u001b[0mlink\u001b[0m \u001b[1;33m=\u001b[0m \u001b[0melements\u001b[0m\u001b[1;33m[\u001b[0m\u001b[0mi\u001b[0m\u001b[1;33m]\u001b[0m\u001b[1;33m\u001b[0m\u001b[1;33m\u001b[0m\u001b[0m\n\u001b[0m\u001b[0;32m     23\u001b[0m         \u001b[0mtitles\u001b[0m\u001b[1;33m.\u001b[0m\u001b[0mappend\u001b[0m\u001b[1;33m(\u001b[0m\u001b[0mlink\u001b[0m\u001b[1;33m.\u001b[0m\u001b[0mtext\u001b[0m\u001b[1;33m)\u001b[0m\u001b[1;33m\u001b[0m\u001b[1;33m\u001b[0m\u001b[0m\n\u001b[0;32m     24\u001b[0m         \u001b[0mlink\u001b[0m\u001b[1;33m.\u001b[0m\u001b[0mclick\u001b[0m\u001b[1;33m(\u001b[0m\u001b[1;33m)\u001b[0m\u001b[1;33m\u001b[0m\u001b[1;33m\u001b[0m\u001b[0m\n",
      "\u001b[1;31mIndexError\u001b[0m: list index out of range"
     ]
    }
   ],
   "source": [
    "webs = [\"https://poets.org/poet/john-wieners\"]\n",
    "df = extract_webs(webs)"
   ]
  },
  {
   "cell_type": "code",
   "execution_count": null,
   "metadata": {},
   "outputs": [
    {
     "data": {
      "text/html": [
       "<div>\n",
       "<style scoped>\n",
       "    .dataframe tbody tr th:only-of-type {\n",
       "        vertical-align: middle;\n",
       "    }\n",
       "\n",
       "    .dataframe tbody tr th {\n",
       "        vertical-align: top;\n",
       "    }\n",
       "\n",
       "    .dataframe thead th {\n",
       "        text-align: right;\n",
       "    }\n",
       "</style>\n",
       "<table border=\"1\" class=\"dataframe\">\n",
       "  <thead>\n",
       "    <tr style=\"text-align: right;\">\n",
       "      <th></th>\n",
       "      <th>Poet</th>\n",
       "      <th>Poem</th>\n",
       "      <th>Title</th>\n",
       "    </tr>\n",
       "  </thead>\n",
       "  <tbody>\n",
       "    <tr>\n",
       "      <th>0</th>\n",
       "      <td>John Wieners</td>\n",
       "      <td>Promise you wont forget\\neach time we met\\nwe ...</td>\n",
       "      <td>In Public</td>\n",
       "    </tr>\n",
       "    <tr>\n",
       "      <th>1</th>\n",
       "      <td>John Wieners</td>\n",
       "      <td>He was as a god,\\nstepped out of eternal dream...</td>\n",
       "      <td>Billie</td>\n",
       "    </tr>\n",
       "    <tr>\n",
       "      <th>2</th>\n",
       "      <td>John Wieners</td>\n",
       "      <td>by evening light, at the window, where wind bl...</td>\n",
       "      <td>Reading in Bed</td>\n",
       "    </tr>\n",
       "    <tr>\n",
       "      <th>3</th>\n",
       "      <td>John Wieners</td>\n",
       "      <td>A poor man cannot make use of himself.\\nHe is ...</td>\n",
       "      <td>Money Is Not Monogamous</td>\n",
       "    </tr>\n",
       "    <tr>\n",
       "      <th>4</th>\n",
       "      <td>John Wieners</td>\n",
       "      <td>For Gerrit\\n\\n \\n\\nWhat is poetry? an image...</td>\n",
       "      <td>Music</td>\n",
       "    </tr>\n",
       "    <tr>\n",
       "      <th>5</th>\n",
       "      <td>John Wieners</td>\n",
       "      <td>What kind of poem would one write if one could...</td>\n",
       "      <td>au rive</td>\n",
       "    </tr>\n",
       "    <tr>\n",
       "      <th>6</th>\n",
       "      <td>John Wieners</td>\n",
       "      <td>For our nerves\\nthis drink, a beating\\non our ...</td>\n",
       "      <td>With Mr. J. R. Morton</td>\n",
       "    </tr>\n",
       "    <tr>\n",
       "      <th>7</th>\n",
       "      <td>John Wieners</td>\n",
       "      <td>I had a fellowship, but lived poorly\\nOn slice...</td>\n",
       "      <td>Charity Balls</td>\n",
       "    </tr>\n",
       "    <tr>\n",
       "      <th>8</th>\n",
       "      <td>John Wieners</td>\n",
       "      <td>How my Mother’s embroidered apron unfolds in m...</td>\n",
       "      <td>Not Complete Enough</td>\n",
       "    </tr>\n",
       "    <tr>\n",
       "      <th>9</th>\n",
       "      <td>John Wieners</td>\n",
       "      <td>I sit in Lees.     At 11:40 PM with\\nJimmy the...</td>\n",
       "      <td>A poem for tea heads</td>\n",
       "    </tr>\n",
       "  </tbody>\n",
       "</table>\n",
       "</div>"
      ],
      "text/plain": [
       "           Poet                                               Poem  \\\n",
       "0  John Wieners  Promise you wont forget\\neach time we met\\nwe ...   \n",
       "1  John Wieners  He was as a god,\\nstepped out of eternal dream...   \n",
       "2  John Wieners  by evening light, at the window, where wind bl...   \n",
       "3  John Wieners  A poor man cannot make use of himself.\\nHe is ...   \n",
       "4  John Wieners     For Gerrit\\n\\n \\n\\nWhat is poetry? an image...   \n",
       "5  John Wieners  What kind of poem would one write if one could...   \n",
       "6  John Wieners  For our nerves\\nthis drink, a beating\\non our ...   \n",
       "7  John Wieners  I had a fellowship, but lived poorly\\nOn slice...   \n",
       "8  John Wieners  How my Mother’s embroidered apron unfolds in m...   \n",
       "9  John Wieners  I sit in Lees.     At 11:40 PM with\\nJimmy the...   \n",
       "\n",
       "                     Title  \n",
       "0                In Public  \n",
       "1                   Billie  \n",
       "2           Reading in Bed  \n",
       "3  Money Is Not Monogamous  \n",
       "4                    Music  \n",
       "5                  au rive  \n",
       "6    With Mr. J. R. Morton  \n",
       "7            Charity Balls  \n",
       "8      Not Complete Enough  \n",
       "9     A poem for tea heads  "
      ]
     },
     "execution_count": 36,
     "metadata": {},
     "output_type": "execute_result"
    }
   ],
   "source": [
    "df"
   ]
  }
 ],
 "metadata": {
  "kernelspec": {
   "display_name": "Python 3.7.11 ('ml_env')",
   "language": "python",
   "name": "python3"
  },
  "language_info": {
   "codemirror_mode": {
    "name": "ipython",
    "version": 3
   },
   "file_extension": ".py",
   "mimetype": "text/x-python",
   "name": "python",
   "nbconvert_exporter": "python",
   "pygments_lexer": "ipython3",
   "version": "3.7.11"
  },
  "orig_nbformat": 4,
  "vscode": {
   "interpreter": {
    "hash": "26105b2dc5f82e64c8b7ee8f072b1281e0bdab5f382708ceed93e75530eb79f1"
   }
  }
 },
 "nbformat": 4,
 "nbformat_minor": 2
}
