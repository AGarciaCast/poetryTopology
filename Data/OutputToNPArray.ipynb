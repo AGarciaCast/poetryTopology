{
 "cells": [
  {
   "cell_type": "code",
   "execution_count": 2,
   "id": "conceptual-knock",
   "metadata": {},
   "outputs": [],
   "source": [
    "import numpy as np"
   ]
  },
  {
   "cell_type": "code",
   "execution_count": 46,
   "id": "geological-submission",
   "metadata": {},
   "outputs": [],
   "source": [
    "#Open output file, remove first file and also the separators\n",
    "with open(\"out.txt\", \"r\", encoding='UTF-8', errors='ignore') as f :\n",
    "    output = f.readlines()\n",
    "output = output[1:]\n",
    "output = list(filter(lambda a: \"***\" not in a, output))"
   ]
  },
  {
   "cell_type": "code",
   "execution_count": 47,
   "id": "miniature-taste",
   "metadata": {},
   "outputs": [],
   "source": [
    "#Split for each line and store in a list (probably useless but idc)\n",
    "MyList = []\n",
    "for elem in output :\n",
    "    content = elem.split(\"|\")[2:]\n",
    "    #remove \\n of last e\n",
    "    content[-1] = content[-1][:-1]\n",
    "    \n",
    "    MyList.append(j)"
   ]
  },
  {
   "cell_type": "code",
   "execution_count": 48,
   "id": "empirical-scheme",
   "metadata": {},
   "outputs": [],
   "source": [
    "#Creation of the numpy matrix\n",
    "MyMatrix = np.empty((len(MyList[0]), len(MyList)))"
   ]
  },
  {
   "cell_type": "code",
   "execution_count": 55,
   "id": "tired-manchester",
   "metadata": {},
   "outputs": [],
   "source": [
    "#Copy from list to numpy matrix (there is probably an easiest way)\n",
    "for i in range(len(MyList)) :\n",
    "    for j in range(len(MyList[i])) :\n",
    "            MyMatrix[j,i] = MyList[i][j]"
   ]
  },
  {
   "cell_type": "code",
   "execution_count": null,
   "id": "beautiful-moment",
   "metadata": {},
   "outputs": [],
   "source": []
  }
 ],
 "metadata": {
  "kernelspec": {
   "display_name": "Python 3.10.8 64-bit (microsoft store)",
   "language": "python",
   "name": "python3"
  },
  "language_info": {
   "codemirror_mode": {
    "name": "ipython",
    "version": 3
   },
   "file_extension": ".py",
   "mimetype": "text/x-python",
   "name": "python",
   "nbconvert_exporter": "python",
   "pygments_lexer": "ipython3",
   "version": "3.10.8"
  },
  "vscode": {
   "interpreter": {
    "hash": "95c1efeb9379afe4535166b7dabdd8cbd79c9c83966898d9af486774d6e7ab86"
   }
  }
 },
 "nbformat": 4,
 "nbformat_minor": 5
}
